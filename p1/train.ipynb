{
 "cells": [
  {
   "cell_type": "code",
   "execution_count": 1,
   "metadata": {},
   "outputs": [],
   "source": [
    "import pandas as pd\n",
    "import numpy as np\n",
    "from sklearn.externals import joblib\n",
    "from sklearn.mixture import GaussianMixture    "
   ]
  },
  {
   "cell_type": "code",
   "execution_count": 2,
   "metadata": {},
   "outputs": [
    {
     "name": "stdout",
     "output_type": "stream",
     "text": [
      "Done with mfcc_GMM_64\n",
      "Done with mfcc\n",
      "Done with mfcc_delta_GMM_64\n",
      "Done with mfcc_delta\n",
      "Done with mfcc_delta_delta_GMM_64\n",
      "Done with mfcc_delta_delta\n"
     ]
    }
   ],
   "source": [
    "# with energy co-efficients\n",
    "path = ['mfcc','mfcc_delta','mfcc_delta_delta']\n",
    "for index in range(len(path)):\n",
    "    timit_df = pd.read_hdf(\"./features/\"+path[index]+\"/timit.hdf\")\n",
    "    #timit_df.head()\n",
    "    features = np.array(timit_df[\"features\"].tolist())\n",
    "    labels = np.array(timit_df[\"labels\"].tolist())\n",
    "    label_list = list(set(labels))\n",
    "    n_components = [64]\n",
    "    for n in n_components:\n",
    "        gmm = GaussianMixture(n_components=n, covariance_type=\"diag\", tol=0.001)\n",
    "        for lb in label_list:\n",
    "            phoneme_df = pd.read_hdf(\"./features/\"+path[index]+\"/phoneme_wise/phn_\"+lb+\".hdf\")\n",
    "            phoneme_features = np.array(phoneme_df[\"features\"].tolist())[0]\n",
    "            gmm_mfcc = gmm.fit(phoneme_features)\n",
    "            joblib.dump((gmm_mfcc), \"models/\"+path[index]+\"/i/GMM_\"+str(n)+\"/phn_\"+lb+\".pkl\", compress=3)  \n",
    "        print (\"Done with \"+path[index]+\"_GMM_\"+str(n))\n",
    "    print (\"Done with \"+path[index])"
   ]
  },
  {
   "cell_type": "code",
   "execution_count": 3,
   "metadata": {},
   "outputs": [
    {
     "name": "stdout",
     "output_type": "stream",
     "text": [
      "Done with mfcc_GMM_2\n",
      "Done with mfcc_GMM_4\n",
      "Done with mfcc_GMM_8\n",
      "Done with mfcc_GMM_16\n",
      "Done with mfcc_GMM_32\n",
      "Done with mfcc_GMM_64\n",
      "Done with mfcc_GMM_128\n",
      "Done with mfcc_GMM_256\n",
      "Done with mfcc\n",
      "Done with mfcc_delta_GMM_64\n",
      "Done with mfcc_delta\n",
      "Done with mfcc_delta_delta_GMM_64\n",
      "Done with mfcc_delta_delta\n"
     ]
    }
   ],
   "source": [
    "# without energy co-efficients\n",
    "path = ['mfcc','mfcc_delta','mfcc_delta_delta']\n",
    "n_components = [[2, 4, 8, 16, 32, 64,128,256],[64],[64]]\n",
    "for index in range(len(path)):\n",
    "    timit_df = pd.read_hdf(\"./features/\"+path[index]+\"/timit.hdf\")\n",
    "    #timit_df.head()\n",
    "    features = np.array(timit_df[\"features\"].tolist())\n",
    "    labels = np.array(timit_df[\"labels\"].tolist())\n",
    "    label_list = list(set(labels))\n",
    "    for n in n_components[index]:\n",
    "        gmm = GaussianMixture(n_components=n, covariance_type=\"diag\", tol=0.001)\n",
    "        for lb in label_list:\n",
    "            phoneme_df = pd.read_hdf(\"./features/\"+path[index]+\"/phoneme_wise/phn_\"+lb+\".hdf\")\n",
    "            phoneme_features = np.array(phoneme_df[\"features\"].tolist())[0]\n",
    "            if path[index] == 'mfcc':\n",
    "                phoneme_features = phoneme_features[1:]\n",
    "            elif path[index] == 'mfcc_delta':\n",
    "                phoneme_features[13] = 0\n",
    "            elif path[index] == 'mfcc_delta_delta':\n",
    "                phoneme_features[26] = 0\n",
    "            gmm_mfcc = gmm.fit(phoneme_features)\n",
    "            joblib.dump((gmm_mfcc), \"models/\"+path[index]+\"/ii/GMM_\"+str(n)+\"/phn_\"+lb+\".pkl\", compress=3)  \n",
    "        print (\"Done with \"+path[index]+\"_GMM_\"+str(n))\n",
    "    print (\"Done with \"+path[index])"
   ]
  },
  {
   "cell_type": "code",
   "execution_count": null,
   "metadata": {},
   "outputs": [],
   "source": []
  }
 ],
 "metadata": {
  "kernelspec": {
   "display_name": "Python 3",
   "language": "python",
   "name": "python3"
  },
  "language_info": {
   "codemirror_mode": {
    "name": "ipython",
    "version": 3
   },
   "file_extension": ".py",
   "mimetype": "text/x-python",
   "name": "python",
   "nbconvert_exporter": "python",
   "pygments_lexer": "ipython3",
   "version": "3.6.6"
  }
 },
 "nbformat": 4,
 "nbformat_minor": 2
}
